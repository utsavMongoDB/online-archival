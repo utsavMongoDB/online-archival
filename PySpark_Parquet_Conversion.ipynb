{
 "cells": [
  {
   "cell_type": "code",
   "execution_count": 2,
   "id": "80ac14a4",
   "metadata": {},
   "outputs": [
    {
     "name": "stdout",
     "output_type": "stream",
     "text": [
      "Requirement already satisfied: pyspark in /opt/homebrew/lib/python3.10/site-packages (3.3.2)\n",
      "Requirement already satisfied: py4j==0.10.9.5 in /opt/homebrew/lib/python3.10/site-packages (from pyspark) (0.10.9.5)\n",
      "\n",
      "\u001b[1m[\u001b[0m\u001b[34;49mnotice\u001b[0m\u001b[1;39;49m]\u001b[0m\u001b[39;49m A new release of pip is available: \u001b[0m\u001b[31;49m23.0.1\u001b[0m\u001b[39;49m -> \u001b[0m\u001b[32;49m23.1.2\u001b[0m\n",
      "\u001b[1m[\u001b[0m\u001b[34;49mnotice\u001b[0m\u001b[1;39;49m]\u001b[0m\u001b[39;49m To update, run: \u001b[0m\u001b[32;49mpython3.10 -m pip install --upgrade pip\u001b[0m\n"
     ]
    }
   ],
   "source": [
    "!pip install pyspark"
   ]
  },
  {
   "cell_type": "code",
   "execution_count": 4,
   "id": "2a871c47",
   "metadata": {},
   "outputs": [],
   "source": [
    "uri = \"<URI_STRING>\""
   ]
  },
  {
   "cell_type": "code",
   "execution_count": 8,
   "id": "6a2f35fc",
   "metadata": {},
   "outputs": [
    {
     "name": "stdout",
     "output_type": "stream",
     "text": [
      "Requirement already satisfied: pymongo in /opt/homebrew/lib/python3.10/site-packages (4.2.0)\n",
      "\n",
      "\u001b[1m[\u001b[0m\u001b[34;49mnotice\u001b[0m\u001b[1;39;49m]\u001b[0m\u001b[39;49m A new release of pip is available: \u001b[0m\u001b[31;49m23.0.1\u001b[0m\u001b[39;49m -> \u001b[0m\u001b[32;49m23.1.2\u001b[0m\n",
      "\u001b[1m[\u001b[0m\u001b[34;49mnotice\u001b[0m\u001b[1;39;49m]\u001b[0m\u001b[39;49m To update, run: \u001b[0m\u001b[32;49mpython3.10 -m pip install --upgrade pip\u001b[0m\n"
     ]
    }
   ],
   "source": [
    "!pip install pymongo"
   ]
  },
  {
   "cell_type": "code",
   "execution_count": 74,
   "id": "8a622744",
   "metadata": {},
   "outputs": [],
   "source": [
    "import pymongo\n",
    "\n",
    "client = pymongo.MongoClient(uri)\n",
    "db = client['sample_analytics']\n",
    "coll = db['accounts']\n",
    "\n",
    "documents_found = coll.find(filter={})"
   ]
  },
  {
   "cell_type": "code",
   "execution_count": 75,
   "id": "351ce2ce",
   "metadata": {},
   "outputs": [
    {
     "name": "stdout",
     "output_type": "stream",
     "text": [
      "{'_id': {'$oid': '5ca4bbc7a2dd94ee58162a60'}, 'limit': 10000, 'products': ['Commodity', 'InvestmentStock'], 'account id': 291224}\n"
     ]
    }
   ],
   "source": [
    "import json \n",
    "from bson import json_util\n",
    "\n",
    "json_data = {}\n",
    "for i, document in enumerate(documents_found):\n",
    "    json_data = json.loads(json_util.dumps(document))\n",
    "\n",
    "print(json_data)"
   ]
  },
  {
   "cell_type": "code",
   "execution_count": 76,
   "id": "21806b49",
   "metadata": {},
   "outputs": [],
   "source": [
    "from pyspark.sql import SparkSession\n",
    "\n",
    "# Create a SparkSession\n",
    "spark = SparkSession.builder.appName(\"JsonToParquetConverter\").getOrCreate()"
   ]
  },
  {
   "cell_type": "code",
   "execution_count": 77,
   "id": "c915b8d5",
   "metadata": {},
   "outputs": [],
   "source": [
    "import shutil \n",
    "\n",
    "# Read nested JSON data\n",
    "jsonData = spark.read.json(spark.sparkContext.parallelize([json_data]))\n",
    "# Coalesce the data into a single partition\n",
    "jsonData = jsonData.coalesce(1)\n",
    "# Write JSON data to Parquet format, overwriting if already exists\n",
    "jsonData.write.mode(\"overwrite\").parquet(\"test.parquet\")"
   ]
  },
  {
   "cell_type": "code",
   "execution_count": 78,
   "id": "2f5c2f32",
   "metadata": {},
   "outputs": [
    {
     "name": "stdout",
     "output_type": "stream",
     "text": [
      "root\n",
      " |-- _id: struct (nullable = true)\n",
      " |    |-- $oid: string (nullable = true)\n",
      " |-- account id: long (nullable = true)\n",
      " |-- limit: long (nullable = true)\n",
      " |-- products: array (nullable = true)\n",
      " |    |-- element: string (containsNull = true)\n",
      "\n",
      "+--------------------+----------+-----+--------------------+\n",
      "|                 _id|account id|limit|            products|\n",
      "+--------------------+----------+-----+--------------------+\n",
      "|{5ca4bbc7a2dd94ee...|    291224|10000|[Commodity, Inves...|\n",
      "+--------------------+----------+-----+--------------------+\n",
      "\n"
     ]
    }
   ],
   "source": [
    "parquetData = spark.read.parquet(\"test.parquet\")\n",
    "# Example: Show the schema and first few rows of the Parquet data\n",
    "parquetData.printSchema()\n",
    "parquetData.show(5)"
   ]
  },
  {
   "cell_type": "code",
   "execution_count": null,
   "id": "bb595dd5",
   "metadata": {},
   "outputs": [],
   "source": [
    "# Stop the SparkSession\n",
    "spark.stop()"
   ]
  }
 ],
 "metadata": {
  "kernelspec": {
   "display_name": "Python 3 (ipykernel)",
   "language": "python",
   "name": "python3"
  },
  "language_info": {
   "codemirror_mode": {
    "name": "ipython",
    "version": 3
   },
   "file_extension": ".py",
   "mimetype": "text/x-python",
   "name": "python",
   "nbconvert_exporter": "python",
   "pygments_lexer": "ipython3",
   "version": "3.10.9"
  }
 },
 "nbformat": 4,
 "nbformat_minor": 5
}
