{
 "cells": [
  {
   "cell_type": "code",
   "execution_count": 4,
   "id": "87fa4265",
   "metadata": {},
   "outputs": [],
   "source": [
    "uri = \"<URI_STRING>\""
   ]
  },
  {
   "cell_type": "markdown",
   "id": "457249a3",
   "metadata": {},
   "source": [
    "## Read data from MongoDB "
   ]
  },
  {
   "cell_type": "code",
   "execution_count": 74,
   "id": "1790d18b",
   "metadata": {},
   "outputs": [],
   "source": [
    "import pymongo\n",
    "\n",
    "client = pymongo.MongoClient(uri)\n",
    "db = client['sample_analytics']\n",
    "coll = db['accounts']\n",
    "\n",
    "documents_found = coll.find(filter={})"
   ]
  },
  {
   "cell_type": "code",
   "execution_count": 75,
   "id": "b7e7e2ab",
   "metadata": {},
   "outputs": [
    {
     "name": "stdout",
     "output_type": "stream",
     "text": [
      "{'_id': {'$oid': '5ca4bbc7a2dd94ee58162a60'}, 'limit': 10000, 'products': ['Commodity', 'InvestmentStock'], 'account id': 291224}\n"
     ]
    }
   ],
   "source": [
    "import json \n",
    "from bson import json_util\n",
    "\n",
    "json_data = {}\n",
    "for i, document in enumerate(documents_found):\n",
    "    json_data = json.loads(json_util.dumps(document))\n",
    "\n",
    "print(json_data)"
   ]
  },
  {
   "cell_type": "markdown",
   "id": "a8b49110",
   "metadata": {},
   "source": [
    "## Create Spark session"
   ]
  },
  {
   "cell_type": "markdown",
   "id": "856c1403",
   "metadata": {},
   "source": [
    "### Convert JSON to Parquet using parallelize"
   ]
  },
  {
   "cell_type": "code",
   "execution_count": 77,
   "id": "4cbd962d",
   "metadata": {},
   "outputs": [],
   "source": [
    "import shutil \n",
    "from pyspark.sql import SparkSession\n",
    "\n",
    "# Create a SparkSession\n",
    "spark = SparkSession.builder.appName(\"JsonToParquetConverter\").getOrCreate()\n",
    "# Read nested JSON data\n",
    "jsonData = spark.read.json(spark.sparkContext.parallelize([json_data]))\n",
    "# Coalesce the data into a single partition\n",
    "jsonData = jsonData.coalesce(1)\n",
    "# Write JSON data to Parquet format, overwriting if already exists\n",
    "jsonData.write.mode(\"overwrite\").parquet(\"test.parquet\")"
   ]
  },
  {
   "cell_type": "markdown",
   "id": "2e6ae220",
   "metadata": {},
   "source": [
    "#### Read paruqet file Schema and Data "
   ]
  },
  {
   "cell_type": "code",
   "execution_count": 78,
   "id": "5e0e4059",
   "metadata": {
    "scrolled": true
   },
   "outputs": [
    {
     "name": "stdout",
     "output_type": "stream",
     "text": [
      "root\n",
      " |-- _id: struct (nullable = true)\n",
      " |    |-- $oid: string (nullable = true)\n",
      " |-- account id: long (nullable = true)\n",
      " |-- limit: long (nullable = true)\n",
      " |-- products: array (nullable = true)\n",
      " |    |-- element: string (containsNull = true)\n",
      "\n",
      "+--------------------+----------+-----+--------------------+\n",
      "|                 _id|account id|limit|            products|\n",
      "+--------------------+----------+-----+--------------------+\n",
      "|{5ca4bbc7a2dd94ee...|    291224|10000|[Commodity, Inves...|\n",
      "+--------------------+----------+-----+--------------------+\n",
      "\n"
     ]
    }
   ],
   "source": [
    "parquetData = spark.read.parquet(\"test.parquet\")\n",
    "# Example: Show the schema and first few rows of the Parquet data\n",
    "parquetData.printSchema()\n",
    "parquetData.show(5)"
   ]
  },
  {
   "cell_type": "markdown",
   "id": "5588ed3d",
   "metadata": {},
   "source": [
    "#### Stop spark job"
   ]
  },
  {
   "cell_type": "code",
   "execution_count": null,
   "id": "0a431905",
   "metadata": {},
   "outputs": [],
   "source": [
    "# Stop the SparkSession\n",
    "spark.stop()"
   ]
  }
 ],
 "metadata": {
  "kernelspec": {
   "display_name": "Python 3 (ipykernel)",
   "language": "python",
   "name": "python3"
  },
  "language_info": {
   "codemirror_mode": {
    "name": "ipython",
    "version": 3
   },
   "file_extension": ".py",
   "mimetype": "text/x-python",
   "name": "python",
   "nbconvert_exporter": "python",
   "pygments_lexer": "ipython3",
   "version": "3.10.9"
  }
 },
 "nbformat": 4,
 "nbformat_minor": 5
}
